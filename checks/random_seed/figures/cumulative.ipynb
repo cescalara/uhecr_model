{
 "cells": [
  {
   "cell_type": "code",
   "execution_count": 1,
   "source": [
    "import numpy as np\n",
    "import h5py\n",
    "import matplotlib as mpl\n",
    "from matplotlib import pyplot as plt\n",
    "import seaborn as sns\n",
    "from pandas import DataFrame\n",
    "\n",
    "from fancy import Data, Results\n",
    "from fancy.plotting import AllSkyMap, Corner\n",
    "from fancy.plotting.colours import *\n",
    "\n",
    "# to match paper style\n",
    "plt.style.use('minimalist') "
   ],
   "outputs": [],
   "metadata": {}
  },
  {
   "cell_type": "code",
   "execution_count": 2,
   "source": [
    "# Define output files\n",
    "# sim_output_file = '../output/joint_model_simulation.h5'\n",
    "# arrival_output_file = '../output/arrival_direction_fit.h5'\n",
    "# joint_output_file = '../output/joint_fit.h5'\n",
    "\n",
    "source_type = \"SBG_23\"\n",
    "detector_type = \"TA2015\"\n",
    "\n",
    "random_seeds = [19990308, 16510456, 98362168, 99999999]\n",
    "exp_factor = 1.\n",
    "\n",
    "check_plot = False"
   ],
   "outputs": [],
   "metadata": {}
  },
  {
   "cell_type": "code",
   "execution_count": 3,
   "source": [
    "\n",
    "\n",
    "# arrays to store source association results for each seed\n",
    "F_a = []\n",
    "F_j = []\n",
    "# F_true = []\n",
    "\n",
    "for random_seed in random_seeds:\n",
    "\n",
    "    sim_output_file = '../output/joint_model_simulation_{0}_{2}_rs{1}.h5'.format(source_type, random_seed, detector_type)\n",
    "    arrival_output_file = '../output/arrival_direction_fit_{0}_{2}_rs{1}.h5'.format(source_type, random_seed, detector_type)\n",
    "    joint_output_file = '../output/joint_fit_{0}_{2}_rs{1}.h5'.format(source_type, random_seed, detector_type)\n",
    "\n",
    "    # Get f samples for both models and true f value.\n",
    "    f_a = Results(arrival_output_file).get_chain(['f'])['f']\n",
    "    f_j = Results(joint_output_file).get_chain(['f'])['f']\n",
    "    f_true = Results(sim_output_file).get_truths(['f'])['f']\n",
    "\n",
    "    # append\n",
    "    F_a.append(f_a)\n",
    "    F_j.append(f_j)\n",
    "    # F_true.append(f_true)\n",
    "\n",
    "    if check_plot:\n",
    "        fig, ax = plt.subplots()\n",
    "        fig.set_size_inches((6, 4))\n",
    "\n",
    "        sns.distplot(f_a, hist = False, \n",
    "                    kde_kws = {'shade' : True, 'lw' : 2, 'zorder' : 0}, \n",
    "                    color = grey, label = 'arrival direction')\n",
    "        sns.distplot(f_j, hist = False, \n",
    "                    kde_kws = {'shade' : True, 'lw' : 2, 'zorder' : 1}, \n",
    "                    color = purple, label = 'joint')\n",
    "        ax.axvline(f_true, 0, 10, color = 'k', zorder = 3, lw = 2., alpha = 0.7)\n",
    "\n",
    "        ax.set_xlim(0, 1)\n",
    "        # ax.set_ylim(0, 10)\n",
    "        ax.set_xlabel('$f$')\n",
    "        ax.set_ylabel('$P(f | \\hat{E}, \\hat{\\omega})$')\n",
    "        ax.legend(bbox_to_anchor = (0.65, 1.0));\n",
    "\n"
   ],
   "outputs": [],
   "metadata": {}
  },
  {
   "cell_type": "code",
   "execution_count": 4,
   "source": [
    "# evaluate cumulative histogram and normalize by # random seeds\n",
    "norm = len(random_seeds)\n",
    "# norm = 1.\n",
    "F_a_cumul = np.sum(np.array(F_a), axis=0) / norm\n",
    "F_j_cumul = np.sum(np.array(F_j), axis=0) / norm"
   ],
   "outputs": [],
   "metadata": {}
  },
  {
   "cell_type": "code",
   "execution_count": 5,
   "source": [
    "# plot cumulative distribution\n",
    "fig, ax = plt.subplots()\n",
    "fig.set_size_inches((6, 4))\n",
    "\n",
    "sns.distplot(F_a_cumul, hist = False, \n",
    "            kde_kws = {'shade' : True, 'lw' : 2, 'zorder' : 0}, \n",
    "            color = grey, label = 'arrival direction')\n",
    "sns.distplot(F_j_cumul, hist = False, \n",
    "            kde_kws = {'shade' : True, 'lw' : 2, 'zorder' : 1}, \n",
    "            color = purple, label = 'joint')\n",
    "ax.axvline(f_true, 0, 10, color = 'k', zorder = 3, lw = 2., alpha = 0.7)\n",
    "\n",
    "ax.set_xlim(0, 1)\n",
    "# ax.set_ylim(0, 10)\n",
    "ax.set_xlabel('$f$')\n",
    "ax.set_ylabel('$P(f | \\hat{E}, \\hat{\\omega})$')\n",
    "ax.legend(bbox_to_anchor = (0.65, 1.0));"
   ],
   "outputs": [
    {
     "output_type": "display_data",
     "data": {
      "text/plain": [
       "<Figure size 432x288 with 1 Axes>"
      ],
      "image/png": "[encoded data removed]"
     },
     "metadata": {
      "needs_background": "light"
     }
    }
   ],
   "metadata": {}
  },
  {
   "cell_type": "code",
   "execution_count": null,
   "source": [],
   "outputs": [],
   "metadata": {}
  }
 ],
 "metadata": {
  "orig_nbformat": 4,
  "language_info": {
   "name": "python",
   "version": "3.8.5",
   "mimetype": "text/x-python",
   "codemirror_mode": {
    "name": "ipython",
    "version": 3
   },
   "pygments_lexer": "ipython3",
   "nbconvert_exporter": "python",
   "file_extension": ".py"
  },
  "kernelspec": {
   "name": "python3",
   "display_name": "Python 3.8.5 64-bit ('base': conda)"
  },
  "interpreter": {
   "hash": "569d6b7e9215e11aba41c6454007e5c1b78bad7df09dab765d8cf00362c40f03"
  }
 },
 "nbformat": 4,
 "nbformat_minor": 2
}