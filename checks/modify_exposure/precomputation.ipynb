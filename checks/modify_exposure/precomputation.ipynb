{
 "cells": [
  {
   "cell_type": "markdown",
   "source": [
    "# Precomputing values for use in fits of Stan models\n",
    "\n",
    "Because of the way Stan works, it is necessary to compute some values in advance which can then be passed into the fit an interpolated over. The precomputed values will be different for different sets of source distances, and therefore different catalogues. \n",
    "\n",
    "Here we show how to compute the values for the SBG catalogue, but it is exactly the same for all cases, just changing the input label.\n",
    "\n",
    "For ease, all the precomputed table files used are provided for use in this repository."
   ],
   "metadata": {}
  },
  {
   "cell_type": "code",
   "execution_count": 1,
   "source": [
    "import os\n",
    "import h5py\n",
    "\n",
    "from fancy import Data, Model, Analysis\n",
    "import numpy as np\n",
    "\n",
    "# detector_type = \"PAO\"\n",
    "detector_type = \"TA\""
   ],
   "outputs": [],
   "metadata": {
    "ExecuteTime": {
     "end_time": "2019-02-01T13:29:36.686912Z",
     "start_time": "2019-02-01T13:29:34.322950Z"
    }
   }
  },
  {
   "cell_type": "code",
   "execution_count": 2,
   "source": [
    "'''set detector and detector properties'''\n",
    "if detector_type == \"TA\":\n",
    "    from fancy.detector.TA2015 import detector_properties, Eth\n",
    "elif detector_type == \"PAO\":\n",
    "    from fancy.detector.auger2014 import detector_properties, Eth\n",
    "else:\n",
    "    raise Exception(\"Undefined detector type!\")\n"
   ],
   "outputs": [],
   "metadata": {}
  },
  {
   "cell_type": "code",
   "execution_count": 3,
   "source": [
    "# Define file containing catalogue information\n",
    "source_file = '../../data/sourcedata.h5'\n",
    "\n",
    "# Path to Stan files\n",
    "stan_path = '../../stan/'\n",
    "\n",
    "# make output directory if it doesnt exist\n",
    "if not os.path.isdir(\"output\"):\n",
    "    os.mkdir(\"output\")\n",
    "\n",
    "# source_type = \"2FHL_250Mpc\"\n",
    "# source_type = \"swift_BAT_213\"\n",
    "# source_types = [\"SBG_23\", \"2FHL_250Mpc\"]\n",
    "source_types = [\"SBG_23\"]\n",
    "\n",
    "# exposure factor\n",
    "# exp_factors = [1., 5., 10., 100.]\n",
    "# exp_factors = [1., 5.]\n",
    "exp_factors = [4., 7.]\n",
    "# exp_factor = 5.\n",
    "\n",
    "# store original total exposure and area to restore per iteration\n",
    "alpha_T_0 = detector_properties[\"alpha_T\"]\n",
    "A_0 = detector_properties[\"A\"]\n",
    "\n",
    "for source_type in source_types:\n",
    "    for exp_factor in exp_factors:\n",
    "        print(\"Current Source: {0}\".format(source_type))\n",
    "        print(\"Current Exposure Factor: {0}\".format(exp_factor))\n",
    "\n",
    "        # File in which to store precomputation\n",
    "        # create new files with TA label\n",
    "        # table_file = 'output/precomputation_storage.h5'\n",
    "        # table_file = 'output/precomputation_storage_TA.h5'\n",
    "        table_file = \"output/tables_{0}_{2}_epsx{1:.0f}.h5\".format(source_type, exp_factor, detector_type)\n",
    "\n",
    "        # modify exposure factor\n",
    "        detector_properties[\"alpha_T\"] *= exp_factor\n",
    "        detector_properties[\"A\"] *= exp_factor\n",
    "\n",
    "        # check if we have the correct values for detector_properties\n",
    "        # if detector_properties[\"alpha_T\"] / exp_factor, alpha_T_0):\n",
    "        #     raise Exception(\"Fix exposure factor for detector property!\")\n",
    "        # if detector_properties[\"A\"] / exp_factor, A_0):\n",
    "        #     raise Exception(\"Fix exposure factor for detector property!\")\n",
    "\n",
    "        print(detector_properties[\"alpha_T\"] / exp_factor == alpha_T_0)\n",
    "        print(detector_properties[\"A\"] / exp_factor == A_0)\n",
    "\n",
    "        data = Data()\n",
    "        data.add_source(source_file, source_type) \n",
    "        # data.source.select_sources([0, 1]) # just select 2 sources to speed up demo\n",
    "        data.add_detector(detector_properties)  # KW: add detector information\n",
    "\n",
    "        model_name = 'joint_model.stan'\n",
    "        model = Model(model_filename = model_name, include_paths = stan_path)\n",
    "        model.input(Eth = Eth) # EeV\n",
    "        # model.input(Eth = 57) # EeV\n",
    "\n",
    "        # precomp_output = 'output/testing_precomputation.h5'\n",
    "        # precomp_output = 'output/testing_precomputation_TA.h5'\n",
    "        # summary = b'Demonstration of precomputation.' \n",
    "        summary = b'Precomputation for SBG catalogue with TA observatory'\n",
    "        # summary = b'Precomputation for 2FHL catalogue with TA observatory'\n",
    "        # summary = b'Precomputation for swift_bat catalogue with TA observatory'\n",
    "        analysis = Analysis(data, model, analysis_type = 'joint', \n",
    "                            filename = table_file, summary = summary)\n",
    "\n",
    "        analysis.build_tables(fit_only = True)\n",
    "        analysis.tables.save(table_file)\n",
    "\n",
    "        analysis.build_energy_table(table_file = table_file)\n",
    "\n",
    "        # reset exposure factor to original\n",
    "        detector_properties[\"alpha_T\"] = alpha_T_0\n",
    "        detector_properties[\"A\"] = A_0"
   ],
   "outputs": [
    {
     "output_type": "stream",
     "name": "stdout",
     "text": [
      "Current Source: SBG_23\n",
      "Current Exposure Factor: 0.5\n",
      "True\n",
      "True\n"
     ]
    },
    {
     "output_type": "stream",
     "name": "stderr",
     "text": [
      "Precomputing exposure integral: 100%|██████████| 23/23 [03:28<00:00,  9.09s/it]"
     ]
    },
    {
     "output_type": "stream",
     "name": "stdout",
     "text": [
      "\n"
     ]
    },
    {
     "output_type": "stream",
     "name": "stderr",
     "text": [
      "\n",
      "Precomputing exposure integral: 100%|██████████| 23/23 [00:51<00:00,  2.25s/it]\n"
     ]
    }
   ],
   "metadata": {}
  }
 ],
 "metadata": {
  "kernelspec": {
   "name": "python3",
   "display_name": "Python 3.8.5 64-bit ('base': conda)"
  },
  "language_info": {
   "codemirror_mode": {
    "name": "ipython",
    "version": 3
   },
   "file_extension": ".py",
   "mimetype": "text/x-python",
   "name": "python",
   "nbconvert_exporter": "python",
   "pygments_lexer": "ipython3",
   "version": "3.8.5"
  },
  "interpreter": {
   "hash": "569d6b7e9215e11aba41c6454007e5c1b78bad7df09dab765d8cf00362c40f03"
  }
 },
 "nbformat": 4,
 "nbformat_minor": 2
}