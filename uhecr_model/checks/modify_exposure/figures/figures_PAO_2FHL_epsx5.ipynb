{
 "cells": [
  {
   "cell_type": "markdown",
   "source": [
    "# Figures for comparison of arrival direction and joint models\n",
    "\n",
    "Here use the output from the `arrival_vs_joint` notebook to plot the figures shown in the paper.\n",
    "<br>\n",
    "<br>\n",
    "*This code is used to produce Figures 6, 7 and 8 (left panel) in Capel & Mortlock (2019).* "
   ],
   "metadata": {}
  },
  {
   "cell_type": "code",
   "execution_count": null,
   "source": [
    "import numpy as np\n",
    "import h5py\n",
    "import matplotlib as mpl\n",
    "from matplotlib import pyplot as plt\n",
    "import seaborn as sns\n",
    "from pandas import DataFrame\n",
    "\n",
    "from fancy import Data, Results\n",
    "from fancy.plotting import AllSkyMap, Corner\n",
    "from fancy.plotting.colours import *\n",
    "\n",
    "# to match paper style\n",
    "plt.style.use('minimalist') "
   ],
   "outputs": [],
   "metadata": {
    "ExecuteTime": {
     "end_time": "2019-02-01T13:38:56.917390Z",
     "start_time": "2019-02-01T13:38:56.908165Z"
    }
   }
  },
  {
   "cell_type": "code",
   "execution_count": null,
   "source": [
    "# Define output files\n",
    "source_type = \"2FHL_250Mpc\"\n",
    "detector_type = \"PAO\"\n",
    "\n",
    "exp_factor = 5.\n",
    "\n",
    "sim_output_file = '../output/joint_model_simulation_{0}_{2}_epsx{1:.0f}.h5'.format(source_type, exp_factor, detector_type)\n",
    "arrival_output_file = '../output/arrival_direction_fit_{0}_{2}_epsx{1:.0f}.h5'.format(source_type, exp_factor, detector_type)\n",
    "joint_output_file = '../output/joint_fit_{0}_{2}_epsx{1:.0f}.h5'.format(source_type, exp_factor, detector_type)"
   ],
   "outputs": [],
   "metadata": {
    "ExecuteTime": {
     "end_time": "2019-02-01T13:38:09.649063Z",
     "start_time": "2019-02-01T13:38:09.645318Z"
    }
   }
  },
  {
   "cell_type": "code",
   "execution_count": null,
   "source": [
    "'''set detector and detector properties'''\n",
    "if detector_type == \"TA\":\n",
    "    from fancy.detector.TA2015 import detector_params, Eth\n",
    "elif detector_type == \"PAO\":\n",
    "    from fancy.detector.auger2014 import detector_params, Eth\n",
    "else:\n",
    "    raise Exception(\"Undefined detector type!\")"
   ],
   "outputs": [],
   "metadata": {}
  },
  {
   "cell_type": "markdown",
   "source": [
    "## Figure 6\n",
    "\n",
    "The simulated data set and the Auger exposure."
   ],
   "metadata": {}
  },
  {
   "cell_type": "code",
   "execution_count": null,
   "source": [
    "from astropy.coordinates import SkyCoord\n",
    "from astropy import units as u\n",
    "\n",
    "from fancy.detector.exposure import m_dec\n",
    "from fancy.interfaces.stan import Direction\n",
    "\n",
    "# modify exposure contained in detector_params\n",
    "# detector_params[3] == alpha_T\n",
    "detector_params[3] *= exp_factor"
   ],
   "outputs": [],
   "metadata": {
    "ExecuteTime": {
     "end_time": "2019-02-01T13:38:12.030217Z",
     "start_time": "2019-02-01T13:38:12.005421Z"
    }
   }
  },
  {
   "cell_type": "code",
   "execution_count": null,
   "source": [
    "# Read in simulation data\n",
    "with h5py.File(sim_output_file, 'r') as f:\n",
    "    uhecr = f['uhecr']\n",
    "    arrival_direction = Direction(uhecr['unit_vector'][()])\n",
    "    energy = uhecr['energy'][()]\n",
    "    \n",
    "    source = f['source']\n",
    "    source_direction = Direction(source['unit_vector'][()])  "
   ],
   "outputs": [],
   "metadata": {
    "ExecuteTime": {
     "end_time": "2019-02-01T13:38:14.782613Z",
     "start_time": "2019-02-01T13:38:14.718445Z"
    }
   }
  },
  {
   "cell_type": "code",
   "execution_count": null,
   "source": [
    "# Calculate the exposure as a function of declination\n",
    "num_points = 220\n",
    "rightascensions = np.linspace(-180, 180, num_points)\n",
    "declinations = np.linspace(-np.pi/2, np.pi/2, num_points)\n",
    "\n",
    "m = np.asarray([m_dec(d, detector_params) for d in declinations])\n",
    "exposure_factor = (m / np.max(m))"
   ],
   "outputs": [],
   "metadata": {
    "ExecuteTime": {
     "end_time": "2019-02-01T13:38:16.815903Z",
     "start_time": "2019-02-01T13:38:16.806323Z"
    }
   }
  },
  {
   "cell_type": "code",
   "execution_count": null,
   "source": [
    "# reset exposure factor\n",
    "detector_params[3] /= exp_factor"
   ],
   "outputs": [],
   "metadata": {}
  },
  {
   "cell_type": "code",
   "execution_count": null,
   "source": [
    "# Colourmaps and normalisation\n",
    "# Exposure\n",
    "exp_cmap = mpl.colors.LinearSegmentedColormap.from_list('custom', \n",
    "                                                        [lightgrey, grey], N = 6)\n",
    "norm_proj = mpl.colors.Normalize(exposure_factor.min(), exposure_factor.max())\n",
    "\n",
    "# UHECR energy\n",
    "# max. of energy bin, set s.t. values in \n",
    "# max(np.digitize(energy, energy_bins) - 1) < len(uhecr_color)\n",
    "Emax = np.ceil(np.max(energy) / 10.) * 10.  \n",
    "\n",
    "\n",
    "uhecr_color = [lightblue, midblue, darkblue]\n",
    "uhecr_cmap = mpl.colors.ListedColormap(uhecr_color)\n",
    "energy_bins = np.logspace(np.log(Eth), np.log(Emax), 4, base = np.e)\n",
    "uhecr_norm = mpl.colors.BoundaryNorm(energy_bins, uhecr_cmap.N)\n",
    "\n",
    "# Legend\n",
    "legend_elements = [mpl.lines.Line2D([0], [0], marker='o', color = 'w', \n",
    "                                    label = 'sources', markersize = 10, \n",
    "                                    markerfacecolor = 'k'), \n",
    "                   mpl.lines.Line2D([0], [0], marker='o', color='w', \n",
    "                                    label='UHECRs', markersize = 15, \n",
    "                                    markerfacecolor = midblue, alpha = 0.8)]"
   ],
   "outputs": [],
   "metadata": {
    "ExecuteTime": {
     "end_time": "2019-02-01T13:38:20.205984Z",
     "start_time": "2019-02-01T13:38:20.190757Z"
    }
   }
  },
  {
   "cell_type": "code",
   "execution_count": null,
   "source": [
    "# Figure\n",
    "fig, ax = plt.subplots()\n",
    "fig.set_size_inches((12, 6))\n",
    "skymap = AllSkyMap(projection = 'hammer', lon_0 = 0, lat_0 = 0);\n",
    "\n",
    "# Sources\n",
    "for lon, lat in np.nditer([source_direction.lons, source_direction.lats]):\n",
    "    skymap.tissot(lon, lat, 2.0, 30, facecolor = 'k', alpha = 1.0, zorder = 5)\n",
    "    \n",
    "# UHECRs\n",
    "for lon, lat, E in np.nditer([arrival_direction.lons, arrival_direction.lats, energy]):\n",
    "    i = np.digitize(E, energy_bins) - 1\n",
    "    skymap.tissot(lon, lat, 3.0 + (i*2), 30, \n",
    "                  facecolor = uhecr_cmap.colors[i], alpha = 0.8, zorder = i+2)\n",
    "    \n",
    "# Exposure\n",
    "# Uses scatter as bug with AllSkyMap.pcolormesh and contour that I still need to fix...\n",
    "for dec, proj in np.nditer([declinations, exposure_factor]):\n",
    "    decs = np.tile(dec, num_points)\n",
    "    c = SkyCoord(ra = rightascensions * u.rad,\n",
    "                 dec = decs * u.rad, frame = 'icrs')\n",
    "    lon = c.galactic.l.deg\n",
    "    lat = c.galactic.b.deg\n",
    "    if (proj == 0):\n",
    "        skymap.scatter(lon, lat, latlon = True, linewidth = 3,\n",
    "                       color = white, alpha = 1, zorder = 1)\n",
    "    else:\n",
    "        skymap.scatter(lon, lat, latlon = True, linewidth = 3,\n",
    "                       color = exp_cmap(norm_proj(proj)), alpha = 1, zorder = 1)\n",
    "        \n",
    "# Annotation\n",
    "skymap.draw_border()\n",
    "skymap.draw_standard_labels(minimal = True, fontsize = 20)\n",
    "ax.legend(handles = legend_elements, bbox_to_anchor = (0.8, 0.85), fontsize = 20)\n",
    "\n",
    "# Colorbar\n",
    "cb_ax = plt.axes([0.25, 0, .5, .05], frameon = False)\n",
    "bar = mpl.colorbar.ColorbarBase(cb_ax, norm = uhecr_norm, cmap = uhecr_cmap,\n",
    "                                orientation = 'horizontal', drawedges = True, \n",
    "                                alpha = 1)\n",
    "bar.set_label('$\\hat{E}$ / EeV', color = 'k', fontsize = 20)\n",
    "bar.ax.tick_params(labelsize = 20) "
   ],
   "outputs": [],
   "metadata": {
    "ExecuteTime": {
     "end_time": "2019-02-01T13:38:33.938120Z",
     "start_time": "2019-02-01T13:38:23.815219Z"
    }
   }
  },
  {
   "cell_type": "markdown",
   "source": [
    "## Figure 7\n",
    "\n",
    "Comparison of the joint and arrival direction fits."
   ],
   "metadata": {}
  },
  {
   "cell_type": "code",
   "execution_count": null,
   "source": [
    "# Get f samples for both models and true f value.\n",
    "f_a = Results(arrival_output_file).get_chain(['f'])['f']\n",
    "f_j = Results(joint_output_file).get_chain(['f'])['f']\n",
    "f_true = Results(sim_output_file).get_truths(['f'])['f']"
   ],
   "outputs": [],
   "metadata": {
    "ExecuteTime": {
     "end_time": "2019-02-01T13:38:35.019933Z",
     "start_time": "2019-02-01T13:38:35.000438Z"
    }
   }
  },
  {
   "cell_type": "code",
   "execution_count": null,
   "source": [
    "fig, ax = plt.subplots()\n",
    "fig.set_size_inches((6, 4))\n",
    "\n",
    "sns.distplot(f_a, hist = False, \n",
    "             kde_kws = {'shade' : True, 'lw' : 2, 'zorder' : 0}, \n",
    "             color = grey, label = 'arrival direction')\n",
    "sns.distplot(f_j, hist = False, \n",
    "             kde_kws = {'shade' : True, 'lw' : 2, 'zorder' : 1}, \n",
    "             color = purple, label = 'joint')\n",
    "ax.axvline(f_true, 0, 10, color = 'k', zorder = 3, lw = 2., alpha = 0.7)\n",
    "\n",
    "ax.set_xlim(0, 1)\n",
    "# ax.set_ylim(0, 10)\n",
    "ax.set_xlabel('$f$')\n",
    "ax.set_ylabel('$P(f | \\hat{E}, \\hat{\\omega})$')\n",
    "ax.legend(bbox_to_anchor = (0.65, 1.0));"
   ],
   "outputs": [],
   "metadata": {
    "ExecuteTime": {
     "end_time": "2019-02-01T13:39:00.398627Z",
     "start_time": "2019-02-01T13:39:00.147027Z"
    }
   }
  },
  {
   "cell_type": "markdown",
   "source": [
    "## Figure 8 (left panel)"
   ],
   "metadata": {}
  },
  {
   "cell_type": "code",
   "execution_count": null,
   "source": [
    "# Get chains from joint fit and truths from simulation\n",
    "results_sim = Results(sim_output_file)\n",
    "results_fit = Results(joint_output_file)\n",
    "\n",
    "keys = ['F0', 'L', 'alpha', 'B', 'f']\n",
    "chain = results_fit.get_chain(keys)\n",
    "\n",
    "# Convert form Stan units to plot units\n",
    "chain['F0'] = chain['F0'] / 1.0e3 # km^-2 yr^-1\n",
    "chain['L'] = chain['L'] * 10 # 10^-38 yr^-1\n",
    "\n",
    "truth_keys = ['F0', 'L', 'alpha', 'B', 'f']\n",
    "truth = results_sim.get_truths(truth_keys)\n",
    "info_keys = ['Eth', 'Eth_sim']\n",
    "info = results_sim.get_truths(info_keys)\n",
    "\n",
    "# Correct for different Eth in sim and fit\n",
    "# Also scale to plot units\n",
    "flux_scale = (info['Eth'] / info['Eth_sim'])**(1 - truth['alpha'])\n",
    "truth['F0'] = truth['F0'] * flux_scale # km^-2 yr^-1\n",
    "truth['L'] = truth['L'][0] * flux_scale / 1.0e39 * 10 # 10^-38 yr^-1"
   ],
   "outputs": [],
   "metadata": {
    "ExecuteTime": {
     "end_time": "2019-02-01T13:39:04.416312Z",
     "start_time": "2019-02-01T13:39:04.390009Z"
    }
   }
  },
  {
   "cell_type": "code",
   "execution_count": null,
   "source": [
    "labels = {}\n",
    "labels['L'] = r'$L$ / $10^{38}$ $\\mathrm{yr}^{-1}$'\n",
    "labels['F0'] = r'$F_0$ / $\\mathrm{km}^{-2} \\ \\mathrm{yr}^{-1}$'\n",
    "labels['B'] = r'$B$ / $\\mathrm{nG}$'\n",
    "labels['alpha'] = r'$\\alpha$'\n",
    "labels['f'] = r'$f$' "
   ],
   "outputs": [],
   "metadata": {
    "ExecuteTime": {
     "end_time": "2019-02-01T13:39:04.872901Z",
     "start_time": "2019-02-01T13:39:04.868032Z"
    }
   }
  },
  {
   "cell_type": "code",
   "execution_count": null,
   "source": [
    "params = np.column_stack([chain[key] for key in keys])\n",
    "truths = [truth[key] for key in keys]\n",
    "\n",
    "# Make nicely labelled dict\n",
    "chain_for_df = {}\n",
    "for key in keys:\n",
    "    chain_for_df[labels[key]] = chain[key]\n",
    "\n",
    "# Make ordered dataframe\n",
    "df = DataFrame(data = chain_for_df)\n",
    "df = df[[labels['F0'], labels['L'], labels['alpha'], labels['B'], labels['f']]]"
   ],
   "outputs": [],
   "metadata": {
    "ExecuteTime": {
     "end_time": "2019-02-01T13:39:05.617554Z",
     "start_time": "2019-02-01T13:39:05.594757Z"
    }
   }
  },
  {
   "cell_type": "code",
   "execution_count": null,
   "source": [
    "corner = Corner(df, truths, color=purple, contour_color=purple_contour) "
   ],
   "outputs": [],
   "metadata": {
    "ExecuteTime": {
     "end_time": "2019-02-01T13:39:46.633230Z",
     "start_time": "2019-02-01T13:39:07.508421Z"
    }
   }
  },
  {
   "cell_type": "markdown",
   "source": [
    "### Footnote\n",
    "\n",
    "In the paper I made a small typo in the plot labelling, $F_0$ is indeed in units of $\\rm{km}^{-2} \\ yr^{-1}$. Also, there are some small differences in the fit posteriors due to the use of a random seed. "
   ],
   "metadata": {}
  }
 ],
 "metadata": {
  "kernelspec": {
   "name": "python3",
   "display_name": "Python 3.8.5 64-bit ('base': conda)"
  },
  "language_info": {
   "codemirror_mode": {
    "name": "ipython",
    "version": 3
   },
   "file_extension": ".py",
   "mimetype": "text/x-python",
   "name": "python",
   "nbconvert_exporter": "python",
   "pygments_lexer": "ipython3",
   "version": "3.8.5"
  },
  "interpreter": {
   "hash": "569d6b7e9215e11aba41c6454007e5c1b78bad7df09dab765d8cf00362c40f03"
  }
 },
 "nbformat": 4,
 "nbformat_minor": 2
}