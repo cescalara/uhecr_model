{
 "cells": [
  {
   "cell_type": "markdown",
   "source": [
    "# Figures for fits to UHECR data\n",
    "\n",
    "Here, we use the output from the `fits_to_data` notebook to plot the figures shown in the paper. Here, we show the result for the SBG catalogue, but the other two cases can be created by switching the catalogue in the `fits_to_data` notebook.\n",
    "<br>\n",
    "<br>\n",
    "*This code was used to produce Figures 9, 10, 11 and 12 in Capel & Mortlock (2019)*."
   ],
   "metadata": {}
  },
  {
   "cell_type": "code",
   "execution_count": 1,
   "source": [
    "%matplotlib inline\n",
    "# %matplotlib notebook\n",
    "import numpy as np\n",
    "from matplotlib import pyplot as plt\n",
    "import matplotlib as mpl\n",
    "import seaborn as sns\n",
    "plt.style.use('minimalist')\n",
    "\n",
    "from fancy import Data, Results\n",
    "# from fancy.plotting import Allskymap\n",
    "from fancy.plotting import AllSkyMapCartopy as AllSkyMap\n",
    "from fancy.plotting.colours import lightblue, midblue, midblue_contour, darkblue, purple, grey\n",
    "from fancy.plotting import Corner\n",
    "from fancy.interfaces.stan import Direction"
   ],
   "outputs": [],
   "metadata": {
    "ExecuteTime": {
     "end_time": "2019-02-01T13:47:47.755062Z",
     "start_time": "2019-02-01T13:47:45.436820Z"
    }
   }
  },
  {
   "cell_type": "code",
   "execution_count": 2,
   "source": [
    "# Define data files\n",
    "source_file = '../../../data/sourcedata.h5'\n",
    "uhecr_file = '../../../data/UHECRdata.h5'\n",
    "\n",
    "source_type = \"SBG_23\"\n",
    "source_label = \"Swift-BAT\" if source_type == \"swift_BAT_213\" else source_type.split(\"_\")[0]\n",
    "detector_type = \"TA2015\"\n",
    "\n",
    "# Define output files\n",
    "arrival_output_file = \"../output/{0}_fit_{1}_{2}.h5\".format(\n",
    "        \"arrival\", \"SBG_23\", \"TA2015\")\n",
    "joint_output_file = \"../output/{0}_fit_{1}_{2}.h5\".format(\n",
    "        \"joint\", \"SBG_23\", \"TA2015\")"
   ],
   "outputs": [],
   "metadata": {
    "ExecuteTime": {
     "end_time": "2019-02-01T13:47:51.521746Z",
     "start_time": "2019-02-01T13:47:51.517187Z"
    }
   }
  },
  {
   "cell_type": "code",
   "execution_count": 3,
   "source": [
    "'''set detector and detector properties'''\n",
    "if detector_type == \"TA2015\":\n",
    "    from fancy.detector.TA2015 import detector_properties\n",
    "elif detector_type == \"auger2014\":\n",
    "    from fancy.detector.auger2014 import detector_properties\n",
    "elif detector_type == \"auger2010\":\n",
    "    from fancy.detector.auger2010 import detector_properties\n",
    "else:\n",
    "    raise Exception(\"Undefined detector type!\")"
   ],
   "outputs": [],
   "metadata": {}
  },
  {
   "cell_type": "markdown",
   "source": [
    "## Info used in a few plots"
   ],
   "metadata": {}
  },
  {
   "cell_type": "code",
   "execution_count": 4,
   "source": [
    "data = Data()\n",
    "\n",
    "# Choose catalogue\n",
    "data.add_source(source_file, source_type)\n",
    "data.add_uhecr(uhecr_file, detector_type)\n",
    "data.add_detector(detector_properties)\n",
    "\n",
    "source_direction = Direction(data.source.unit_vector)\n",
    "arrival_direction = Direction(data.uhecr.unit_vector)\n",
    "energy = data.uhecr.energy"
   ],
   "outputs": [],
   "metadata": {
    "ExecuteTime": {
     "end_time": "2019-02-01T13:48:02.951390Z",
     "start_time": "2019-02-01T13:48:02.821446Z"
    }
   }
  },
  {
   "cell_type": "code",
   "execution_count": 5,
   "source": [
    "# Legend\n",
    "legend_elements = [mpl.lines.Line2D([0], [0], marker = 'o', color = 'w', \n",
    "                                    label = source_label, markersize = 10, \n",
    "                                    markerfacecolor = 'k'),\n",
    "                   mpl.lines.Line2D([0], [0], marker = 'o', color='w', \n",
    "                                    label = 'UHECRs', markersize = 15, \n",
    "                                    markerfacecolor = midblue, alpha = 0.8)]\n",
    "\n",
    "# UHECRs\n",
    "uhecr_color = [lightblue, midblue, darkblue]\n",
    "uhecr_cmap = mpl.colors.ListedColormap(uhecr_color)\n",
    "energy_bins = np.logspace(np.log(57), np.log(170), 4, base = np.e)\n",
    "uhecr_norm = mpl.colors.BoundaryNorm(energy_bins, uhecr_cmap.N)"
   ],
   "outputs": [],
   "metadata": {
    "ExecuteTime": {
     "end_time": "2019-02-01T13:48:03.720627Z",
     "start_time": "2019-02-01T13:48:03.705261Z"
    }
   }
  },
  {
   "cell_type": "markdown",
   "source": [
    "## Figure 9\n",
    "Source catalogues and Auger UHECRs"
   ],
   "metadata": {}
  },
  {
   "cell_type": "code",
   "execution_count": 6,
   "source": [
    "from astropy.coordinates import SkyCoord\n",
    "import astropy.units as u"
   ],
   "outputs": [],
   "metadata": {
    "ExecuteTime": {
     "end_time": "2019-02-01T13:48:05.155826Z",
     "start_time": "2019-02-01T13:48:05.152757Z"
    }
   }
  },
  {
   "cell_type": "code",
   "execution_count": 7,
   "source": [
    "# Exposure\n",
    "num_points = 10000\n",
    "rightascensions = np.linspace(-180, 180, num_points)\n",
    "limiting_dec = data.detector.limiting_dec.deg\n",
    "boundary_decs = np.tile(limiting_dec, num_points)\n",
    "c = SkyCoord(ra = rightascensions * u.degree,\n",
    "             dec = boundary_decs * u.degree, frame = 'icrs')\n",
    "exp_lon = c.galactic.l.deg\n",
    "exp_lat = c.galactic.b.deg"
   ],
   "outputs": [],
   "metadata": {
    "ExecuteTime": {
     "end_time": "2019-02-01T13:48:06.717368Z",
     "start_time": "2019-02-01T13:48:06.673453Z"
    }
   }
  },
  {
   "cell_type": "code",
   "execution_count": 8,
   "source": [
    "import matplotlib.ticker as ticker"
   ],
   "outputs": [],
   "metadata": {}
  },
  {
   "cell_type": "code",
   "execution_count": 9,
   "source": [
    "# # Figure\n",
    "# # fig, ax = plt.subplots()\n",
    "# # fig.set_size_inches((12, 6))\n",
    "# # skymap = AllSkyMap(projection = 'hammer', lon_0 = 0, lat_0 = 0);\n",
    "# skymap = AllSkyMap(projection = 'moll', lon_0 = 0)\n",
    "# skymap.set_gridlines()\n",
    "\n",
    "# # Sources\n",
    "# # for lon, lat in np.nditer([source_direction.lons, source_direction.lats]):\n",
    "# #     skymap.tissot(lon, lat, 2.0, 30, facecolor = 'k', alpha = 1.0, zorder = 5)\n",
    "\n",
    "# skymap.scatter(source_direction.ras, source_direction.decs, s=10.0, color = 'k', alpha = 1.0, zorder = 5)\n",
    "\n",
    "# # UHECRs\n",
    "# for lon, lat, E in np.nditer([arrival_direction.ras, arrival_direction.decs, energy]):\n",
    "#     i = np.digitize(E, energy_bins) - 1\n",
    "#     skymap.tissot(lon, lat, 3.0 + (i*2), 30, \n",
    "#                   facecolor = uhecr_cmap.colors[i], alpha = 0.8, zorder = i+2)\n",
    "\n",
    "# plt.show()"
   ],
   "outputs": [],
   "metadata": {}
  },
  {
   "cell_type": "code",
   "execution_count": 10,
   "source": [
    "# Figure\n",
    "# fig, ax = plt.subplots(figsize=(12,6), constrained_layout=True)\n",
    "# fig.set_size_inches((12, 6))\n",
    "# skymap = AllSkyMap(projection = 'hammer', lon_0 = 0, lat_0 = 0);\n",
    "skymap = AllSkyMap(projection = 'moll', lon_0 = 0)\n",
    "# skymap.fig.tight_layout(pad=0.1)\n",
    "# skymap.set_extent(extents=(-360, 360, -200, 200))\n",
    "\n",
    "\n",
    "skymap.set_gridlines(label_fmt=\"TA\")\n",
    "\n",
    "# Sources\n",
    "# for lon, lat in np.nditer([source_direction.lons, source_direction.lats]):\n",
    "    # skymap.tissot(lon, lat, 2.0, 30, facecolor = 'k', alpha = 1.0, zorder = 5)\n",
    "skymap.scatter(source_direction.glons, source_direction.glats, s=10.0, color = 'k', alpha = 1.0, zorder = 5)\n",
    "\n",
    "# for lon, lat in np.nditer([source_direction.d.ra.deg, source_direction.d.dec.deg]):\n",
    "#     skymap.tissot(lon, lat, 2.0, 30, facecolor = 'k', alpha = 1.0, zorder = 5)\n",
    "    \n",
    "# UHECRs\n",
    "for lon, lat, E in np.nditer([arrival_direction.glons, arrival_direction.glats, energy]):\n",
    "    i = np.digitize(E, energy_bins) - 1\n",
    "    skymap.tissot(lon, lat, 3.0 + (i*2), 30, \n",
    "                  facecolor = uhecr_cmap.colors[i], alpha = 0.8, zorder = i+2)\n",
    "    \n",
    "    \n",
    "# Exposure\n",
    "# Uses scatter as bug with AllSkyMap.pcolormesh and contour that I still need to fix...\n",
    "# skymap.scatter(exp_lon, exp_lat, latlon = True, s = 2,\n",
    "#                color = grey, alpha = 1)\n",
    "\n",
    "# print(arrival_direction.lons, arrival_direction.lats)\n",
    "\n",
    "# print(180.-exp_lon, np.min(exp_lat))\n",
    "\n",
    "# skymap.ax.scatter(180. - exp_lon, exp_lat, transform=ccrs.PlateCarree(), s=2, alpha=1, color=grey)\n",
    "\n",
    "skymap.exposure_limit(data.detector.limiting_dec.deg, s = 2, color = grey, alpha = 1)\n",
    "        \n",
    "# Annotation\n",
    "# skymap.draw_border()\n",
    "# skymap.draw_standard_labels(minimal = True, fontsize = 20)\n",
    "# ax.legend(handles = legend_elements, bbox_to_anchor = (0.8, 0.85), fontsize = 20)\n",
    "# skymap.legend(handles = legend_elements, loc='upper right', fontsize = 16, fancybox=True)\n",
    "skymap.legend(handles = legend_elements, loc='upper right',  bbox_to_anchor = (1., 1.), fontsize = 16, fancybox=True)\n",
    "\n",
    "# Colorbar\n",
    "cb_ax = plt.axes([0.25, 0.07, .5, .05], frameon = False)\n",
    "bar = mpl.colorbar.ColorbarBase(cb_ax, norm = uhecr_norm, cmap = uhecr_cmap,\n",
    "                                orientation = 'horizontal', drawedges = True, \n",
    "                                alpha = 1)\n",
    "bar.set_label('$\\hat{E}$ / EeV', color = 'k', fontsize = 16)\n",
    "bar.ax.tick_params(labelsize=16)\n",
    "# plt.show();\n",
    "skymap.save(\"skymap_real.png\")\n",
    "# skymap.fig"
   ],
   "outputs": [
    {
     "output_type": "display_data",
     "data": {
      "text/plain": [
       "<Figure size 504x360 with 0 Axes>"
      ]
     },
     "metadata": {}
    },
    {
     "output_type": "display_data",
     "data": {
      "image/png": "[encoded data removed]",
      "text/plain": [
       "<Figure size 864x504 with 2 Axes>"
      ]
     },
     "metadata": {
      "needs_background": "light"
     }
    }
   ],
   "metadata": {
    "ExecuteTime": {
     "end_time": "2019-02-01T13:48:10.138334Z",
     "start_time": "2019-02-01T13:48:07.597439Z"
    }
   }
  },
  {
   "cell_type": "markdown",
   "source": [
    "## Figure 10\n",
    "Comparison between arrival direction and joint model."
   ],
   "metadata": {}
  },
  {
   "cell_type": "code",
   "execution_count": 11,
   "source": [
    "# Larger fontsize\n",
    "plt.rcParams['font.size'] = 22\n",
    "plt.rcParams['axes.labelsize'] = 24\n",
    "plt.rcParams['xtick.labelsize'] = 22\n",
    "plt.rcParams['ytick.labelsize'] = 22"
   ],
   "outputs": [],
   "metadata": {
    "ExecuteTime": {
     "end_time": "2019-02-01T13:48:32.054922Z",
     "start_time": "2019-02-01T13:48:32.050161Z"
    }
   }
  },
  {
   "cell_type": "code",
   "execution_count": 12,
   "source": [
    "# Get f samples for both models and true f value.\n",
    "f_a = Results(arrival_output_file).get_chain(['f'])['f']\n",
    "f_j = Results(joint_output_file).get_chain(['f'])['f']"
   ],
   "outputs": [],
   "metadata": {
    "ExecuteTime": {
     "end_time": "2019-02-01T13:48:32.531952Z",
     "start_time": "2019-02-01T13:48:32.513526Z"
    }
   }
  },
  {
   "cell_type": "code",
   "execution_count": 13,
   "source": [
    "fig, ax = plt.subplots()\n",
    "fig.set_size_inches((6, 4))\n",
    "\n",
    "sns.distplot(f_a, hist = False, \n",
    "             kde_kws = {'shade' : True, 'lw' : 2, 'zorder' : 0}, \n",
    "             color = grey, label = 'arrival direction')\n",
    "sns.distplot(f_j, hist = False, \n",
    "             kde_kws = {'shade' : True, 'lw' : 2, 'zorder' : 1}, \n",
    "             color = purple, label = 'joint')\n",
    "\n",
    "ax.set_xlim(0, 1)\n",
    "ax.set_title(source_label, fontsize = 24)\n",
    "ax.set_xlabel('$f$')\n",
    "ax.set_ylabel('$P(f | \\hat{E}, \\hat{\\omega})$')\n",
    "ax.legend(fontsize = 22);\n",
    "fig.savefig(\"dist_real.png\", bbox_inches='tight')\n",
    "# fig;\n",
    "# plt.show()"
   ],
   "outputs": [],
   "metadata": {
    "ExecuteTime": {
     "end_time": "2019-02-01T13:48:33.294401Z",
     "start_time": "2019-02-01T13:48:33.065429Z"
    }
   }
  },
  {
   "cell_type": "markdown",
   "source": [
    "## Figure 11\n",
    "The association probabilities of source-UHECR pairs from the fit of the joint model. See Appendix B for how these are calculated. "
   ],
   "metadata": {}
  },
  {
   "cell_type": "code",
   "execution_count": 14,
   "source": [
    "# normal fontsize\n",
    "plt.rcParams['font.size'] = 14\n",
    "plt.rcParams['axes.labelsize'] = \"large\"\n",
    "plt.rcParams['xtick.labelsize'] = \"large\"\n",
    "plt.rcParams['ytick.labelsize'] = \"large\""
   ],
   "outputs": [],
   "metadata": {}
  },
  {
   "cell_type": "code",
   "execution_count": 15,
   "source": [
    "# Log probability\n",
    "results = Results(joint_output_file)\n",
    "keys = ['lp']\n",
    "chain = results.get_chain(keys);\n",
    "logprob = chain['lp'].transpose(1, 2, 0)\n",
    "N = np.shape(logprob)[0]\n",
    "\n",
    "# Account for background component\n",
    "Ns = np.shape(logprob)[1] - 1"
   ],
   "outputs": [],
   "metadata": {
    "ExecuteTime": {
     "end_time": "2019-02-01T13:48:36.714993Z",
     "start_time": "2019-02-01T13:48:36.569842Z"
    }
   }
  },
  {
   "cell_type": "code",
   "execution_count": 17,
   "source": [
    "Ns"
   ],
   "outputs": [
    {
     "output_type": "execute_result",
     "data": {
      "text/plain": [
       "23"
      ]
     },
     "metadata": {},
     "execution_count": 17
    }
   ],
   "metadata": {}
  },
  {
   "cell_type": "code",
   "execution_count": 18,
   "source": [
    "# Calculate association probabilities for each source-UHECR combo\n",
    "uhecr_p = []\n",
    "for lp in logprob:\n",
    "    lps = []\n",
    "    for src in range(Ns + 1):\n",
    "        lps.append(np.mean(np.exp(lp[src])))\n",
    "\n",
    "    norm = sum(lps)\n",
    "    ps = []\n",
    "    for src in range(Ns+1):\n",
    "        ps.append(lps[src] / norm)\n",
    "    uhecr_p.append(ps)\n",
    "\n",
    "# Normalise line weights\n",
    "pmax = max(max(uhecr_p))"
   ],
   "outputs": [],
   "metadata": {
    "ExecuteTime": {
     "end_time": "2019-02-01T13:48:38.153634Z",
     "start_time": "2019-02-01T13:48:37.634314Z"
    }
   }
  },
  {
   "cell_type": "code",
   "execution_count": 20,
   "source": [
    "# Find names of dominant sources\n",
    "threshold_probability = 0.1\n",
    "\n",
    "dominant = []\n",
    "for p in uhecr_p:\n",
    "    for i in range(data.source.N):\n",
    "        if p[i] > threshold_probability:\n",
    "            dominant.append(i)\n",
    "\n",
    "seen = set()\n",
    "inds = []  # index for each dominant source (in no particular order)\n",
    "for d in dominant:\n",
    "    if d not in seen:\n",
    "        inds.append(d)\n",
    "        seen.add(d)\n",
    "print([data.source.name[i] for i in inds])"
   ],
   "outputs": [
    {
     "output_type": "stream",
     "name": "stdout",
     "text": [
      "[b'NGC6946', b'NGC2903', b'M82', b'IC342', b'M83', b'NGC253']\n"
     ]
    }
   ],
   "metadata": {
    "ExecuteTime": {
     "end_time": "2019-02-01T13:48:38.719591Z",
     "start_time": "2019-02-01T13:48:38.706714Z"
    }
   }
  },
  {
   "cell_type": "code",
   "execution_count": 50,
   "source": [
    "Ns"
   ],
   "outputs": [
    {
     "output_type": "execute_result",
     "data": {
      "text/plain": [
       "23"
      ]
     },
     "metadata": {},
     "execution_count": 50
    }
   ],
   "metadata": {}
  },
  {
   "cell_type": "code",
   "execution_count": 25,
   "source": [
    "inds"
   ],
   "outputs": [
    {
     "output_type": "execute_result",
     "data": {
      "text/plain": [
       "[5, 6, 1, 2, 4, 0]"
      ]
     },
     "metadata": {},
     "execution_count": 25
    }
   ],
   "metadata": {}
  },
  {
   "cell_type": "code",
   "execution_count": 53,
   "source": [
    "len(np.argwhere([d == 0 for d in dominant]))"
   ],
   "outputs": [
    {
     "output_type": "execute_result",
     "data": {
      "text/plain": [
       "1"
      ]
     },
     "metadata": {},
     "execution_count": 53
    }
   ],
   "metadata": {}
  },
  {
   "cell_type": "code",
   "execution_count": 52,
   "source": [
    "N_assos = {}\n",
    "for i in inds:\n",
    "    N_assos[data.source.name[i].decode(\"UTF-8\")] = len(np.argwhere([d == i for d in dominant]))\n",
    "N_assos"
   ],
   "outputs": [
    {
     "output_type": "execute_result",
     "data": {
      "text/plain": [
       "{'NGC6946': 5, 'NGC2903': 1, 'M82': 27, 'IC342': 16, 'M83': 2, 'NGC253': 1}"
      ]
     },
     "metadata": {},
     "execution_count": 52
    }
   ],
   "metadata": {}
  },
  {
   "cell_type": "code",
   "execution_count": 48,
   "source": [
    "N_assos = {}\n",
    "for i in inds:\n",
    "    N_assos[data.source.name[i].decode(\"UTF-8\")] = len(np.argwhere([d == i for d in dominant]))\n",
    "# N_assos\n",
    "\n",
    "N_assos_sorted = {k: v for k, v in sorted(N_assos.items(), key=lambda item: item[1])[::-1]}\n",
    "N_assos_sorted\n",
    "dominant_sources_sorted = list(N_assos_sorted.keys())\n",
    "dominant_sources_sorted"
   ],
   "outputs": [
    {
     "output_type": "execute_result",
     "data": {
      "text/plain": [
       "['M82', 'IC342', 'NGC6946', 'M83', 'NGC253', 'NGC2903']"
      ]
     },
     "metadata": {},
     "execution_count": 48
    }
   ],
   "metadata": {}
  },
  {
   "cell_type": "code",
   "execution_count": 43,
   "source": [
    "# Figure\n",
    "# fig, ax = plt.subplots()\n",
    "# fig.set_size_inches((12, 6))\n",
    "# skymap = AllSkyMap(projection = 'hammer', lon_0 = 0., lat_0 = 0.);\n",
    "skymap = AllSkyMap(projection = 'moll', lon_0 = 0)\n",
    "skymap.set_gridlines()\n",
    "\n",
    "# Sources\n",
    "for lon, lat in np.nditer([source_direction.glons, source_direction.glats]):\n",
    "    skymap.tissot(lon, lat, 2.0, 30, facecolor = 'k', alpha = 1.0, zorder = 5)\n",
    "    \n",
    "# UHECRs\n",
    "for lon, lat, E in np.nditer([arrival_direction.glons, arrival_direction.glats, energy]):\n",
    "    i = np.digitize(E, energy_bins) - 1\n",
    "    skymap.tissot(lon, lat, 3.0 + (i*2), 30, \n",
    "                  facecolor = uhecr_cmap.colors[i], alpha = 0.8, zorder = i+2)\n",
    "    \n",
    "# Association\n",
    "for i, p in enumerate(uhecr_p):\n",
    "    for j, psrc in enumerate(p[0:Ns]):\n",
    "        if psrc > 0.001:\n",
    "            skymap.geodesic(arrival_direction.glons[i], arrival_direction.glats[i], \n",
    "                            source_direction.glons[j], source_direction.glats[j], \n",
    "                            color = 'k', lw = 3, alpha = psrc/pmax, zorder = 10)\n",
    "\n",
    "# Annotation\n",
    "# skymap.draw_border()\n",
    "# skymap.draw_standard_labels(minimal = True, fontsize = 20)\n",
    "# ax.legend(handles = legend_elements, bbox_to_anchor = (0.8, 0.85), fontsize = 20)\n",
    "skymap.legend(handles = legend_elements, loc='upper right',  bbox_to_anchor = (1., 1.), fontsize = 16, fancybox=True)\n",
    "\n",
    "# Colorbar\n",
    "cb_ax = plt.axes([0.25, 0.07, .5, .05], frameon = True)\n",
    "bar = mpl.colorbar.ColorbarBase(cb_ax, norm = uhecr_norm, cmap = uhecr_cmap,\n",
    "                                orientation = 'horizontal', drawedges = True, \n",
    "                                alpha = 1)\n",
    "bar.set_label('$\\hat{E}$ / EeV', color = 'k', fontsize = 16)\n",
    "bar.ax.tick_params(labelsize = 16)\n",
    "skymap.fig.savefig(\"skymap_assos.png\", bbox_inches='tight')"
   ],
   "outputs": [],
   "metadata": {
    "ExecuteTime": {
     "end_time": "2019-02-01T13:48:52.083991Z",
     "start_time": "2019-02-01T13:48:39.474773Z"
    }
   }
  },
  {
   "cell_type": "markdown",
   "source": [
    "## Figure 12\n",
    "\n",
    "Joint marginal posterior distribution of hyperparamaters for the joint_model fit. "
   ],
   "metadata": {}
  },
  {
   "cell_type": "code",
   "execution_count": 44,
   "source": [
    "from pandas import DataFrame"
   ],
   "outputs": [],
   "metadata": {
    "ExecuteTime": {
     "end_time": "2019-02-01T13:48:55.055420Z",
     "start_time": "2019-02-01T13:48:55.052258Z"
    }
   }
  },
  {
   "cell_type": "code",
   "execution_count": 45,
   "source": [
    "# Get chains from joint fit \n",
    "results_fit = Results(joint_output_file)\n",
    "\n",
    "keys = ['alpha', 'B', 'f']\n",
    "chain = results_fit.get_chain(keys)\n",
    "\n",
    "labels = {}\n",
    "labels['B'] = r'$B$ / $\\mathrm{nG}$'\n",
    "labels['alpha'] = r'$\\alpha$'\n",
    "labels['f'] = r'$f$'"
   ],
   "outputs": [],
   "metadata": {
    "ExecuteTime": {
     "end_time": "2019-02-01T13:48:55.483145Z",
     "start_time": "2019-02-01T13:48:55.467364Z"
    }
   }
  },
  {
   "cell_type": "code",
   "execution_count": 46,
   "source": [
    "# Make nicely labelled dict\n",
    "chain_for_df = {}\n",
    "for key in keys:\n",
    "    chain_for_df[labels[key]] = chain[key]\n",
    "\n",
    "# Make ordered dataframe\n",
    "df = DataFrame(data = chain_for_df)\n",
    "df = df[[labels['alpha'], labels['B'], labels['f']]]"
   ],
   "outputs": [],
   "metadata": {
    "ExecuteTime": {
     "end_time": "2019-02-01T13:48:55.949885Z",
     "start_time": "2019-02-01T13:48:55.940575Z"
    }
   }
  },
  {
   "cell_type": "code",
   "execution_count": 47,
   "source": [
    "corner = Corner(df, color = midblue, contour_color=midblue_contour)\n",
    "corner.save(\"corner_real_joint.png\")"
   ],
   "outputs": [],
   "metadata": {
    "ExecuteTime": {
     "end_time": "2019-02-01T13:49:08.649882Z",
     "start_time": "2019-02-01T13:48:56.483775Z"
    }
   }
  },
  {
   "cell_type": "code",
   "execution_count": 48,
   "source": [
    "# Get chains from arrival fit \n",
    "results_fit = Results(arrival_output_file)\n",
    "\n",
    "keys = ['kappa', 'L', 'f']\n",
    "chain = results_fit.get_chain(keys)\n",
    "\n",
    "labels = {}\n",
    "labels['L'] = r'$L$'\n",
    "labels['kappa'] = r'$\\kappa$'\n",
    "labels['f'] = r'$f$'\n",
    "\n",
    "# Make nicely labelled dict\n",
    "chain_for_df = {}\n",
    "for key in keys:\n",
    "    chain_for_df[labels[key]] = chain[key]\n",
    "\n",
    "# Make ordered dataframe\n",
    "df = DataFrame(data = chain_for_df)\n",
    "df = df[[labels['kappa'], labels['L'], labels['f']]]\n",
    "\n",
    "corner = Corner(df, color = midblue, contour_color=midblue_contour)"
   ],
   "outputs": [],
   "metadata": {}
  },
  {
   "cell_type": "code",
   "execution_count": 49,
   "source": [
    "corner.save(\"corner_real_arrival.png\")"
   ],
   "outputs": [],
   "metadata": {}
  },
  {
   "cell_type": "code",
   "execution_count": null,
   "source": [],
   "outputs": [],
   "metadata": {}
  }
 ],
 "metadata": {
  "kernelspec": {
   "name": "python3",
   "display_name": "Python 3.8.5 64-bit ('cartopy': conda)"
  },
  "language_info": {
   "codemirror_mode": {
    "name": "ipython",
    "version": 3
   },
   "file_extension": ".py",
   "mimetype": "text/x-python",
   "name": "python",
   "nbconvert_exporter": "python",
   "pygments_lexer": "ipython3",
   "version": "3.8.5"
  },
  "interpreter": {
   "hash": "cf12d0ded482eea021fd85ca119abab43edea472cc6bee318acc6114fd9d5bf9"
  }
 },
 "nbformat": 4,
 "nbformat_minor": 2
}