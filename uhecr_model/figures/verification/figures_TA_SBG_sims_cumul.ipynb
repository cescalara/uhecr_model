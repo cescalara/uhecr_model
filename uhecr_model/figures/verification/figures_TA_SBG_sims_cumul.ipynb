{
 "cells": [
  {
   "cell_type": "markdown",
   "source": [
    "# Figures for comparison of arrival direction and joint models\n",
    "\n",
    "Here use the output from the `arrival_vs_joint` notebook to plot the figures shown in the paper.\n",
    "<br>\n",
    "<br>\n",
    "*This code is used to produce Figures 6, 7 and 8 (left panel) in Capel & Mortlock (2019).* "
   ],
   "metadata": {}
  },
  {
   "cell_type": "code",
   "execution_count": 13,
   "source": [
    "%matplotlib inline\n",
    "import numpy as np\n",
    "import h5py\n",
    "import matplotlib as mpl\n",
    "from matplotlib import pyplot as plt\n",
    "import seaborn as sns\n",
    "from pandas import DataFrame\n",
    "\n",
    "from fancy import Data, Results\n",
    "from fancy.plotting import Corner\n",
    "from fancy.plotting.allskymap_cartopy import AllSkyMapCartopy as AllSkyMap\n",
    "from fancy.plotting.colours import *\n",
    "\n",
    "# to match paper style\n",
    "plt.style.use('minimalist') "
   ],
   "outputs": [],
   "metadata": {
    "ExecuteTime": {
     "end_time": "2019-02-01T13:38:56.917390Z",
     "start_time": "2019-02-01T13:38:56.908165Z"
    }
   }
  },
  {
   "cell_type": "code",
   "execution_count": 14,
   "source": [
    "# Define output files\n",
    "source_type = \"SBG_23\"\n",
    "detector_type = \"TA2015\"\n",
    "\n",
    "sim_output_file = \"../../output/{0}_sim_{1}_{2}_{3}_{4}_notightB.h5\".format(\n",
    "        \"joint\", source_type, detector_type, 19990308, \"p\")"
   ],
   "outputs": [],
   "metadata": {
    "ExecuteTime": {
     "end_time": "2019-02-01T13:38:09.649063Z",
     "start_time": "2019-02-01T13:38:09.645318Z"
    }
   }
  },
  {
   "cell_type": "markdown",
   "source": [
    "## Figure 6\n",
    "\n",
    "The simulated data set and the Auger exposure."
   ],
   "metadata": {}
  },
  {
   "cell_type": "code",
   "execution_count": 15,
   "source": [
    "'''set detector and detector properties'''\n",
    "if detector_type == \"TA2015\":\n",
    "    from fancy.detector.TA2015 import detector_params, Eth\n",
    "elif detector_type == \"auger2014\":\n",
    "    from fancy.detector.auger2014 import detector_params, Eth\n",
    "elif detector_type == \"auger2010\":\n",
    "    from fancy.detector.auger2010 import detector_params, Eth\n",
    "else:\n",
    "    raise Exception(\"Undefined detector type!\")"
   ],
   "outputs": [],
   "metadata": {}
  },
  {
   "cell_type": "code",
   "execution_count": 16,
   "source": [
    "from astropy.coordinates import SkyCoord\n",
    "from astropy import units as u\n",
    "\n",
    "from fancy.detector.exposure import m_dec\n",
    "from fancy.interfaces.stan import Direction"
   ],
   "outputs": [],
   "metadata": {
    "ExecuteTime": {
     "end_time": "2019-02-01T13:38:12.030217Z",
     "start_time": "2019-02-01T13:38:12.005421Z"
    }
   }
  },
  {
   "cell_type": "markdown",
   "source": [
    "## Figure 7\n",
    "\n",
    "Comparison of the joint and arrival direction fits."
   ],
   "metadata": {}
  },
  {
   "cell_type": "code",
   "execution_count": 17,
   "source": [
    "seeds = [19990308, 16852056, 65492186, 9999999, 9953497]\n",
    "\n",
    "F_gmf = []\n",
    "F_joint = []\n",
    "F_arrival = []\n",
    "\n",
    "for seed in seeds:\n",
    "\n",
    "\n",
    "    # joint_gmf_output_file = \"../../output/{0}_fit_{5}_{1}_{2}_{3}_{4}_{6}.h5\".format(\n",
    "    #         \"joint_gmf\", \"SBG_23\", \"TA2015\", seed, \"p\", \"sim\", \"joint_gmf\")\n",
    "    joint_output_file = \"../../output/{0}_fit_{5}_{1}_{2}_{3}_{4}_{6}.h5\".format(\n",
    "            \"joint\", \"SBG_23\", \"TA2015\", seed, \"p\", \"sim\", \"joint\")\n",
    "    arrival_output_file = \"../../output/{0}_fit_{5}_{1}_{2}_{3}_{4}_{6}.h5\".format(\n",
    "        \"arrival_direction\", \"SBG_23\", \"TA2015\", seed, \"p\", \"sim\", \"joint\")\n",
    "\n",
    "    # f_g = Results(joint_gmf_output_file).get_chain(['f'])['f']\n",
    "    f_j = Results(joint_output_file).get_chain(['f'])['f']\n",
    "    f_a = Results(arrival_output_file).get_chain(['f'])['f']\n",
    "\n",
    "    # F_gmf.append(f_g)\n",
    "    F_joint.append(f_j)\n",
    "    F_arrival.append(f_a)\n",
    "\n",
    "# f_gmf_avg = np.mean(np.array(F_gmf), axis=0)\n",
    "f_joint_avg = np.mean(np.array(F_joint), axis=0)\n",
    "f_arrival_avg = np.mean(np.array(F_arrival), axis=0)\n",
    "\n",
    "f_true = Results(sim_output_file).get_truths(['f'])['f']"
   ],
   "outputs": [],
   "metadata": {}
  },
  {
   "cell_type": "code",
   "execution_count": 18,
   "source": [
    "fig, ax = plt.subplots()\n",
    "# fig.set_size_inches((6, 4))\n",
    "\n",
    "# sns.distplot(f_gmf_avg, hist = False, \n",
    "#              kde_kws = {'shade' : True, 'lw' : 2, 'zorder' : 0}, \n",
    "#              color = grey, label = 'joint + gmf')\n",
    "sns.distplot(f_joint_avg, hist = False, \n",
    "             kde_kws = {'shade' : True, 'lw' : 2, 'zorder' : 1}, \n",
    "             color = purple, label = 'joint')\n",
    "sns.distplot(f_arrival_avg, hist = False, \n",
    "             kde_kws = {'shade' : True, 'lw' : 2, 'zorder' : 0}, \n",
    "             color = lightblue, label = 'arrival')\n",
    "ax.axvline(f_true, 0, 10, color = 'k', zorder = 3, lw = 2., alpha = 0.7)\n",
    "\n",
    "ax.set_xlim(0, 1)\n",
    "# ax.set_ylim(0, 10)\n",
    "ax.set_xlabel('$f$')\n",
    "ax.set_ylabel('$P(f | \\hat{E}, \\hat{\\omega})$')\n",
    "ax.legend(loc=\"best\")\n",
    "fig.savefig(\"dist_sims_cumul.png\", bbox_inches=\"tight\")"
   ],
   "outputs": [
    {
     "output_type": "display_data",
     "data": {
      "image/png": "[encoded data removed]",
      "text/plain": [
       "<Figure size 504x360 with 1 Axes>"
      ]
     },
     "metadata": {
      "needs_background": "light"
     }
    }
   ],
   "metadata": {
    "ExecuteTime": {
     "end_time": "2019-02-01T13:39:00.398627Z",
     "start_time": "2019-02-01T13:39:00.147027Z"
    }
   }
  },
  {
   "cell_type": "markdown",
   "source": [
    "## Figure 8 (left panel)"
   ],
   "metadata": {}
  },
  {
   "cell_type": "code",
   "execution_count": 7,
   "source": [
    "\n",
    "keys = ['F0', 'L', 'alpha', 'B', 'f']\n",
    "chain_list = []\n",
    "for seed in seeds:\n",
    "\n",
    "\n",
    "    joint_gmf_output_file = \"../../output/{0}_fit_{5}_{1}_{2}_{3}_{4}_{6}.h5\".format(\n",
    "            \"joint_gmf\", \"SBG_23\", \"TA2015\", seed, \"p\", \"sim\", \"joint_gmf\")\n",
    "#     joint_output_file = \"../../output/{0}_fit_{5}_{1}_{2}_{3}_{4}.h5\".format(\n",
    "#             \"joint\", \"SBG_23\", \"TA2015\", seed, \"p\", \"sim\")\n",
    "\n",
    "    chain = Results(joint_gmf_output_file).get_chain(keys)\n",
    "\n",
    "    # Convert form Stan units to plot units\n",
    "    chain['F0'] = chain['F0'] / 1.0e3 # km^-2 yr^-1\n",
    "    chain['L'] = chain['L'] * 10 # 10^-38 yr^-1\n",
    "\n",
    "    chain_list.append(chain)\n",
    "\n",
    "chain_avgs = {key:0 for key in keys}\n",
    "\n",
    "for key in keys:\n",
    "    chain_sum = 0\n",
    "    for i in range(len(seeds)):\n",
    "        chain_sum += chain_list[i][key]\n",
    "\n",
    "    chain_sum /= len(seeds)\n",
    "\n",
    "    chain_avgs[key] = chain_sum"
   ],
   "outputs": [],
   "metadata": {}
  },
  {
   "cell_type": "code",
   "execution_count": 8,
   "source": [
    "chain_avgs"
   ],
   "outputs": [
    {
     "output_type": "execute_result",
     "data": {
      "text/plain": [
       "{'F0': array([0.04046954, 0.03063004, 0.0362236 , ..., 0.03777035, 0.04527976,\n",
       "        0.03653704]),\n",
       " 'L': array([6.53991106, 7.76818002, 9.56199162, ..., 6.77003585, 5.85887225,\n",
       "        6.09559627]),\n",
       " 'alpha': array([3.30845034, 3.23381574, 3.36275751, ..., 3.5561464 , 3.50921405,\n",
       "        3.46865076]),\n",
       " 'B': array([13.32515147, 16.13295902, 19.66238293, ..., 17.11267206,\n",
       "        15.48473286, 11.71386348]),\n",
       " 'f': array([0.45303019, 0.563345  , 0.5755513 , ..., 0.48128513, 0.40389855,\n",
       "        0.45840481])}"
      ]
     },
     "metadata": {},
     "execution_count": 8
    }
   ],
   "metadata": {}
  },
  {
   "cell_type": "code",
   "execution_count": 10,
   "source": [
    "# Get chains from joint fit and truths from simulation\n",
    "results_sim = Results(sim_output_file)\n",
    "# results_fit = Results(joint_gmf_output_file)\n",
    "\n",
    "# keys = ['F0', 'L', 'alpha', 'B', 'f']\n",
    "# chain = results_fit.get_chain(keys)\n",
    "\n",
    "# # Convert form Stan units to plot units\n",
    "# chain['F0'] = chain['F0'] / 1.0e3 # km^-2 yr^-1\n",
    "# chain['L'] = chain['L'] * 10 # 10^-38 yr^-1\n",
    "\n",
    "truth_keys = ['F0', 'L', 'alpha', 'B', 'f']\n",
    "truth = results_sim.get_truths(truth_keys)\n",
    "info_keys = ['Eth', 'Eth_sim']\n",
    "info = results_sim.get_truths(info_keys)\n",
    "\n",
    "# Correct for different Eth in sim and fit\n",
    "# Also scale to plot units\n",
    "flux_scale = (info['Eth'] / info['Eth_sim'])**(1 - truth['alpha'])\n",
    "truth['F0'] = truth['F0'] * flux_scale # km^-2 yr^-1\n",
    "truth['L'] = truth['L'][0] * flux_scale / 1.0e39 * 10 # 10^-38 yr^-1"
   ],
   "outputs": [],
   "metadata": {
    "ExecuteTime": {
     "end_time": "2019-02-01T13:39:04.416312Z",
     "start_time": "2019-02-01T13:39:04.390009Z"
    }
   }
  },
  {
   "cell_type": "code",
   "execution_count": 11,
   "source": [
    "labels = {}\n",
    "labels['L'] = r'$L$ / $10^{38}$ $\\mathrm{yr}^{-1}$'\n",
    "labels['F0'] = r'$F_0$ / $\\mathrm{km}^{-2} \\ \\mathrm{yr}^{-1}$'\n",
    "labels['B'] = r'$B$ / $\\mathrm{nG}$'\n",
    "labels['alpha'] = r'$\\alpha$'\n",
    "labels['f'] = r'$f$' "
   ],
   "outputs": [],
   "metadata": {
    "ExecuteTime": {
     "end_time": "2019-02-01T13:39:04.872901Z",
     "start_time": "2019-02-01T13:39:04.868032Z"
    }
   }
  },
  {
   "cell_type": "code",
   "execution_count": 12,
   "source": [
    "params = np.column_stack([chain_avgs[key] for key in keys])\n",
    "truths = [truth[key] for key in keys]\n",
    "\n",
    "# Make nicely labelled dict\n",
    "chain_for_df = {}\n",
    "for key in keys:\n",
    "    chain_for_df[labels[key]] = chain_avgs[key]\n",
    "\n",
    "# Make ordered dataframe\n",
    "df = DataFrame(data = chain_for_df)\n",
    "df = df[[labels['F0'], labels['L'], labels['alpha'], labels['B'], labels['f']]]"
   ],
   "outputs": [],
   "metadata": {
    "ExecuteTime": {
     "end_time": "2019-02-01T13:39:05.617554Z",
     "start_time": "2019-02-01T13:39:05.594757Z"
    }
   }
  },
  {
   "cell_type": "code",
   "execution_count": 13,
   "source": [
    "\n",
    "corner = Corner(df, truths, color=purple, contour_color=purple_contour) \n",
    "corner.save(\"corner_sims_cumul.png\")"
   ],
   "outputs": [],
   "metadata": {
    "ExecuteTime": {
     "end_time": "2019-02-01T13:39:46.633230Z",
     "start_time": "2019-02-01T13:39:07.508421Z"
    }
   }
  },
  {
   "cell_type": "markdown",
   "source": [
    "### Footnote\n",
    "\n",
    "In the paper I made a small typo in the plot labelling, $F_0$ is indeed in units of $\\rm{km}^{-2} \\ yr^{-1}$. Also, there are some small differences in the fit posteriors due to the use of a random seed. "
   ],
   "metadata": {}
  }
 ],
 "metadata": {
  "kernelspec": {
   "name": "python3",
   "display_name": "Python 3.8.5 64-bit ('cartopy': conda)"
  },
  "language_info": {
   "codemirror_mode": {
    "name": "ipython",
    "version": 3
   },
   "file_extension": ".py",
   "mimetype": "text/x-python",
   "name": "python",
   "nbconvert_exporter": "python",
   "pygments_lexer": "ipython3",
   "version": "3.8.5"
  },
  "interpreter": {
   "hash": "cf12d0ded482eea021fd85ca119abab43edea472cc6bee318acc6114fd9d5bf9"
  }
 },
 "nbformat": 4,
 "nbformat_minor": 2
}