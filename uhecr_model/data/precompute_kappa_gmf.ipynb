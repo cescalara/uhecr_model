{
 "cells": [
  {
   "cell_type": "markdown",
   "source": [
    "## Precomputation for $\\kappa_{GMF}$\n",
    "\n",
    "Precompute the values of $\\kappa_{GMF}$, which defines the deflection between the UHECR arrived at earth $\\omega$ and those after back propagation in the galactic magnetic field (GMF) $\\omega_{GMF}$. This is precomputed for each composition and stored in the relevant group in `UHECRdata.h5`.\n",
    "\n",
    "**NOTE:** This only needs to be computed once. Eventually we will set up a flag so that this would not compute when it is already computed."
   ],
   "metadata": {}
  },
  {
   "cell_type": "code",
   "execution_count": 1,
   "source": [
    "import os\n",
    "import h5py\n",
    "import numpy as np\n",
    "\n",
    "from fancy import Uhecr\n",
    "from fancy.interfaces.stan import coord_to_uv\n",
    "\n",
    "uhecr_file = \"UHECRdata.h5\"\n",
    "\n",
    "# type of detector / UHECR dataset\n",
    "# choose from [\"TA2015\", \"auger2014\", \"auger2010\"]\n",
    "uhecr_label = \"TA2015\"\n",
    "\n",
    "# initialize the Uhecr object\n",
    "uhecr = Uhecr()"
   ],
   "outputs": [],
   "metadata": {}
  },
  {
   "cell_type": "code",
   "execution_count": 2,
   "source": [
    "with h5py.File(uhecr_file, \"r+\") as f:\n",
    "    print(f.keys())\n",
    "    del f[uhecr_label][\"kappa_gmf\"]"
   ],
   "outputs": [
    {
     "output_type": "stream",
     "name": "stdout",
     "text": [
      "<KeysViewHDF5 ['TA2015', 'auger2010', 'auger2014']>\n"
     ]
    }
   ],
   "metadata": {}
  },
  {
   "cell_type": "code",
   "execution_count": 3,
   "source": [
    "'''Open the UHECR file'''\n",
    "with h5py.File(uhecr_file, 'r+') as f:\n",
    "\n",
    "    data = f[uhecr_label]\n",
    "    \n",
    "    uhecr.label = uhecr_label\n",
    "    uhecr.year = data['year'][()]\n",
    "    uhecr.day = data['day'][()]\n",
    "    uhecr.zenith_angle = np.deg2rad(data['theta'][()])\n",
    "    uhecr.energy = data['energy'][()]\n",
    "    uhecr.N = len(uhecr.energy)\n",
    "    glon = data['glon'][()]\n",
    "    glat = data['glat'][()]\n",
    "    uhecr.coord = uhecr.get_coordinates(glon, glat)\n",
    "\n",
    "    uhecr.unit_vector = coord_to_uv(uhecr.coord)\n",
    "    uhecr.period = uhecr._find_period()\n",
    "    uhecr.A = uhecr._find_area(1.)"
   ],
   "outputs": [],
   "metadata": {}
  },
  {
   "cell_type": "code",
   "execution_count": 4,
   "source": [
    "'''Build the kappa_gmf tables for all particles given in uhecr.nuc_tables'''\n",
    "uhecr.build_kappa_gmf(uhecr_file, particle_type=\"all\")"
   ],
   "outputs": [
    {
     "output_type": "stream",
     "name": "stderr",
     "text": [
      "Precomputing kappa_gmf for each composition: 100%|██████████| 9/9 [00:42<00:00,  4.68s/it]\n"
     ]
    }
   ],
   "metadata": {}
  },
  {
   "cell_type": "code",
   "execution_count": 5,
   "source": [
    "'''Check if we computed it correctly'''\n",
    "with h5py.File(uhecr_file, \"r\") as f:\n",
    "    print(f[uhecr_label].keys())\n",
    "\n",
    "    print(\"kappa_gmf keys:\")\n",
    "    print(f[uhecr_label][\"kappa_gmf\"].keys())\n",
    "    print(f[uhecr_label][\"kappa_gmf\"][\"p\"].keys())\n",
    "\n",
    "    print(f[uhecr_label][\"kappa_gmf\"][\"p\"][\"kappa_gmf\"][()].shape)"
   ],
   "outputs": [
    {
     "output_type": "stream",
     "name": "stdout",
     "text": [
      "<KeysViewHDF5 ['day', 'dec', 'energy', 'glat', 'glon', 'kappa_gmf', 'ra', 'theta', 'year']>\n",
      "kappa_gmf keys:\n",
      "<KeysViewHDF5 ['C', 'Fe', 'H', 'He', 'Li', 'N', 'O', 'Si', 'p']>\n",
      "<KeysViewHDF5 ['kappa_gmf', 'omega_gal', 'omega_rand', 'omega_true']>\n",
      "(72,)\n"
     ]
    }
   ],
   "metadata": {}
  },
  {
   "cell_type": "code",
   "execution_count": null,
   "source": [],
   "outputs": [],
   "metadata": {}
  }
 ],
 "metadata": {
  "orig_nbformat": 4,
  "language_info": {
   "name": "python",
   "version": "3.8.5",
   "mimetype": "text/x-python",
   "codemirror_mode": {
    "name": "ipython",
    "version": 3
   },
   "pygments_lexer": "ipython3",
   "nbconvert_exporter": "python",
   "file_extension": ".py"
  },
  "kernelspec": {
   "name": "python3",
   "display_name": "Python 3.8.5 64-bit ('base': conda)"
  },
  "interpreter": {
   "hash": "569d6b7e9215e11aba41c6454007e5c1b78bad7df09dab765d8cf00362c40f03"
  }
 },
 "nbformat": 4,
 "nbformat_minor": 2
}